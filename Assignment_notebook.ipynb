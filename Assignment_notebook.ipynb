{
 "cells": [
  {
   "cell_type": "markdown",
   "id": "92ac01fb",
   "metadata": {
    "scrolled": false
   },
   "source": [
    "# Notebook for RT2 Assignment"
   ]
  },
  {
   "cell_type": "code",
   "execution_count": 1,
   "id": "97ac7d9b",
   "metadata": {},
   "outputs": [],
   "source": [
    "import rospy\n",
    "from geometry_msgs.msg import Point, Twist\n",
    "from rosgraph_msgs.msg import Clock\n",
    "from actionlib_msgs.msg import GoalID\n",
    "from std_msgs.msg import Bool\n",
    "\n",
    "import time\n",
    "import numpy as np\n",
    "import matplotlib as mpl\n",
    "import matplotlib.pyplot as plt\n",
    "import ipywidgets as widgets \n",
    "from ipywidgets import Button, Layout , interactive_output , interactive\n",
    "from ipywidgets import ButtonStyle, GridBox, VBox, HBox\n",
    "from IPython.display import display\n",
    "\n",
    "from matplotlib.animation import FuncAnimation\n",
    "import matplotlib.pyplot as plt\n",
    "import rospy\n",
    "import tf\n",
    "from nav_msgs.msg import Odometry\n",
    "from sensor_msgs.msg import LaserScan\n",
    "from tf.transformations import quaternion_matrix\n",
    "import numpy as np\n",
    "\n",
    "rospy.init_node(\"input_console\")\n",
    "\n",
    "pubGoalPoint = rospy.Publisher(\"MY_topic_send_goal\", Point, queue_size=1)\n",
    "pubCancel = rospy.Publisher(\"move_base/cancel\", GoalID, queue_size=1)\n",
    "pubTeleop = rospy.Publisher(\"MY_topic_teleop\", Bool, queue_size=1)\n",
    "pubManualDrive = rospy.Publisher(\"myRemapped_cmd_vel\", Twist, queue_size=1)\n"
   ]
  },
  {
   "cell_type": "code",
   "execution_count": 2,
   "id": "4492c1ec",
   "metadata": {},
   "outputs": [],
   "source": [
    "my_cancel = GoalID()\n",
    "inputPoint = Point()\n",
    "whichTeleop = Bool()\n",
    "desiredVel = Twist() "
   ]
  },
  {
   "cell_type": "markdown",
   "id": "5bfee29d",
   "metadata": {},
   "source": [
    "## classes for robot visualization"
   ]
  },
  {
   "cell_type": "code",
   "execution_count": 19,
   "id": "67b9691c",
   "metadata": {},
   "outputs": [],
   "source": [
    "class Odom_Visualiser:\n",
    "    def __init__(self):\n",
    "        self.fig, self.ax = plt.subplots()\n",
    "        self.ln, = self.ax.plot([], [], 'r.')  #0000\n",
    "        self.x_data, self.y_data = [] , []\n",
    "    def plot_init(self):\n",
    "        self.ax.set_xlim(-10, 10)\n",
    "        self.ax.set_ylim(-10, 10)\n",
    "        self.ax.set_title('Odometry graphic',fontsize=20)\n",
    "        return self.ln\n",
    "    def odom_callback(self, msg):\n",
    "        self.y_data.append(msg.pose.pose.position.y)\n",
    "        self.x_data.append(msg.pose.pose.position.x)\n",
    "#         if len(self.y_data)> 50:\n",
    "#             self.y_data.pop(0)\n",
    "#         if len(self.y_data)> 50:\n",
    "#             self.x_data.pop(0)\n",
    "            \n",
    "        \n",
    "    def update_plot(self, frame):\n",
    "        self.ln.set_data(self.x_data, self.y_data)\n",
    "        return self.ln\n",
    "\n",
    "class Laser_Visualiser:\n",
    "    def __init__(self):\n",
    "        self.fig, self.ax = plt.subplots(subplot_kw={'projection': 'polar'})\n",
    "        self.ln, = self.ax.plot([], [], 'r.')\n",
    "        self.r, self.theta = [] , []\n",
    "        self.rmax = 10\n",
    "        \n",
    "    def plot_init(self):\n",
    "        self.ax.set_thetalim(-np.pi/2, np.pi/2)\n",
    "        self.ax.set_rmax(self.rmax)\n",
    "        self.ax.set_theta_zero_location(\"N\")\n",
    "        self.ax.set_title('Lasers Scan graphic',fontsize=20)\n",
    "        return self.ln\n",
    "    \n",
    "    def laser_callback(self, msg):\n",
    "        self.r = msg.ranges\n",
    "        self.theta = np.arange(msg.angle_min, msg.angle_max+msg.angle_increment, msg.angle_increment)\n",
    "        \n",
    "    def update_plot(self, frame):\n",
    "        for artist in plt.gca().lines + plt.gca().collections:\n",
    "            artist.remove()\n",
    "        self.ln = self.ax.plot(self.theta,self.r,'r.')\n",
    "        self.ax.set_rmax(self.rmax)\n",
    "        return self.ln\n",
    "    \n",
    "class Goal_Visualiser:\n",
    "    def __init__(self):\n",
    "        global goal_reached, goal_NON_reached\n",
    "        self.fig, self.ax = plt.subplots()\n",
    "        data = {'reached': goal_reached, 'UNreached': goal_NON_reached}\n",
    "        names = list(data.keys())\n",
    "        values = list(data.values())\n",
    "        self.x_data, self.y_data = names ,values\n",
    "        self.ln = self.ax.bar(self.x_data, self.y_data, color = ['green','red']) #0000 self.ln,\n",
    "        \n",
    "    def plot_init(self):\n",
    "#         self.ax.set_xlim(-10, 10)\n",
    "        self.ax.set_ylabel('goal',fontsize=10)\n",
    "        self.ax.set_title('Reached Goals Graphic',fontsize=20)\n",
    "        return self.ln\n",
    "    \n",
    "    def goal_callback(self, msg):\n",
    "        global goal_reached, goal_NON_reached\n",
    "        data = {'reached': goal_reached, 'UNreached': goal_NON_reached}\n",
    "        names = list(data.keys())\n",
    "        values = list(data.values())\n",
    "        self.x_data, self.y_data = names ,values            \n",
    "        \n",
    "    def update_plot(self, frame):\n",
    "        self.ln = self.ax.bar(self.x_data, self.y_data, color = ['green','red'])  #0000\n",
    "        return self.ln"
   ]
  },
  {
   "cell_type": "markdown",
   "id": "0d69bc0b",
   "metadata": {},
   "source": [
    "### functions to unable/disable widgets"
   ]
  },
  {
   "cell_type": "code",
   "execution_count": 4,
   "id": "274b6fac",
   "metadata": {
    "scrolled": false
   },
   "outputs": [],
   "source": [
    "\n",
    "\n",
    "def DisableGoal(bool):\n",
    "    if bool == 0:\n",
    "        y_goal_widget.disabled = False\n",
    "        x_goal_widget.disabled = False\n",
    "    else:\n",
    "        y_goal_widget.disabled = True\n",
    "        x_goal_widget.disabled = True\n",
    "\n",
    "def DisableCommands(bool):\n",
    "    if bool == 0:\n",
    "        b_forward.disabled = False\n",
    "        b_forLeft.disabled = False\n",
    "        b_forRight.disabled = False\n",
    "        b_turnLeft.disabled = False\n",
    "        b_turnRight.disabled = False\n",
    "        b_stop.disabled = False\n",
    "        b_backLeft.disabled = False\n",
    "        b_backRight.disabled = False\n",
    "        b_back.disabled = False\n",
    "        s_speed.disabled = False\n",
    "    else:\n",
    "        b_forward.disabled = True\n",
    "        b_forLeft.disabled = True\n",
    "        b_forRight.disabled = True\n",
    "        b_turnLeft.disabled = True\n",
    "        b_turnRight.disabled = True\n",
    "        b_stop.disabled = True\n",
    "        b_backLeft.disabled = True\n",
    "        b_backRight.disabled = True\n",
    "        b_back.disabled = True\n",
    "        s_speed.disabled = True"
   ]
  },
  {
   "cell_type": "markdown",
   "id": "2498c9f9",
   "metadata": {},
   "source": [
    "# widgets definitions"
   ]
  },
  {
   "cell_type": "code",
   "execution_count": 5,
   "id": "104a87ec",
   "metadata": {
    "scrolled": true
   },
   "outputs": [],
   "source": [
    "x_goal_widget = widgets.FloatText(\n",
    "    value=0,\n",
    "    description='x goal:',\n",
    "    disabled=False,\n",
    "    button_style='', # 'success', 'info', 'warning', 'danger' or ''\n",
    "    tooltips=['Insert X coordinate'],\n",
    "   \n",
    ")\n",
    "\n",
    "\n",
    "y_goal_widget = widgets.FloatText(\n",
    "    value=0,\n",
    "    description='y goal:',\n",
    "    disabled=False,\n",
    "    button_style='', # 'success', 'info', 'warning', 'danger' or ''\n",
    "    tooltips=['Insert Y coordinate'],\n",
    "   \n",
    ")\n",
    "\n",
    "toggle_mode = widgets.ToggleButtons(\n",
    "    options=[('Cancel goal',0), ('Set new goal',1), ('Fully manual drive',2), ('Assisted Manual Drive',3)],\n",
    "    description='Select Action:',\n",
    "    disabled=False,\n",
    "    value=0,\n",
    "    button_style='', # 'success', 'info', 'warning', 'danger' or ''\n",
    "    tooltips=['cancel last given goal', 'make sure of selecting desired coordinates before setting the goal', 'manually drive the robot','manually drive the robot WITH assisted collision avoidance'],\n",
    "   \n",
    "    #     icons=['check'] * 3\n",
    ")\n",
    "\n",
    "InfoText = widgets.Text(\n",
    "    value=' ',\n",
    "    placeholder='',\n",
    "    description='status:',\n",
    "    disabled=True\n",
    ")\n",
    "\n",
    "b_forward = Button(description='FORWARD',\n",
    "           layout=Layout(width='40%', height='65px' ))\n",
    "b_forward.style.button_color = 'lightgreen'\n",
    "b_forward.style.font_weight='bold'\n",
    "\n",
    "b_stop = Button(description='STOP',\n",
    "           layout=b_forward.layout)\n",
    "b_stop.style.button_color = '#F44336' #red\n",
    "b_stop.style.font_weight='bold'\n",
    "\n",
    "b_forLeft = Button(description='LEFT FORWARD',\n",
    "           layout=b_forward.layout)\n",
    "b_forLeft.style.button_color = '#1565C0'\n",
    "b_forLeft.style.font_weight='bold'\n",
    "\n",
    "b_forRight = Button(description='RIGHT FORWARD',\n",
    "           layout=b_forward.layout)\n",
    "b_forRight.style.button_color = '#1565C0'\n",
    "b_forRight.style.font_weight='bold'\n",
    "\n",
    "b_turnLeft = Button(description='TURN LEFT',\n",
    "           layout=b_forward.layout)\n",
    "b_turnLeft.style.button_color = 'lightgreen'\n",
    "b_turnLeft.style.font_weight='bold'\n",
    "\n",
    "b_turnRight = Button(description='TURN RIGHT',\n",
    "           layout=b_forward.layout)\n",
    "b_turnRight.style.button_color = 'lightgreen'\n",
    "b_turnRight.style.font_weight='bold'\n",
    "\n",
    "b_backLeft = Button(description='BACK LEFT',\n",
    "           layout=b_forward.layout)\n",
    "b_backLeft.style.button_color = '#039BE5'\n",
    "b_backLeft.style.font_weight='bold'\n",
    "\n",
    "b_backRight = Button(description='BACK RIGHT',\n",
    "           layout=b_forward.layout)\n",
    "b_backRight.style.button_color = '#039BE5'\n",
    "b_backRight.style.font_weight='bold'\n",
    "\n",
    "b_back = Button(description='BACKWARDS',\n",
    "           layout=b_forward.layout)\n",
    "b_back.style.button_color = 'lightgreen'\n",
    "b_back.style.font_weight='bold'\n",
    "\n",
    "s_speed = widgets.FloatSlider(\n",
    "    value=1,\n",
    "    min=0.25,\n",
    "    max=3,\n",
    "    step=0.25,\n",
    "    description='Speed multiplier factor:',\n",
    "    disabled=True,\n",
    "    continuous_update=True,\n",
    "    orientation='horizontal',\n",
    "    readout=True,\n",
    "    readout_format='.2f',\n",
    "    layout = Layout(width='100%', height='65px')\n",
    ")\n",
    "\n",
    "\n",
    "first_row = HBox([b_forLeft,b_forward,b_forRight])\n",
    "second_row= HBox([b_turnLeft,b_stop,b_turnRight])\n",
    "third_row = HBox([b_backLeft,b_back,b_backRight])\n",
    "commands = VBox([first_row,second_row,third_row])\n",
    "DisableCommands(1)\n"
   ]
  },
  {
   "cell_type": "markdown",
   "id": "a9537aa4",
   "metadata": {},
   "source": [
    "# callback function to update goal_reached "
   ]
  },
  {
   "cell_type": "code",
   "execution_count": 6,
   "id": "ebabd2d6",
   "metadata": {},
   "outputs": [],
   "source": [
    "goal_reached = 0\n",
    "goal_NON_reached = 0\n",
    "def GoalStatusCallback(msg):\n",
    "    global goal_reached\n",
    "    global goal_NON_reached\n",
    "    display(msg.data)\n",
    "    if msg.data == False:\n",
    "        goal_NON_reached = goal_NON_reached +1\n",
    "        InfoText.value ='Goal UNREACHABLE'\n",
    "        \n",
    "    else:\n",
    "        goal_reached = goal_reached +1\n",
    "        InfoText.value ='Goal REACHED'\n",
    "    \n",
    "sub = rospy.Subscriber(\"my_reach\", Bool, GoalStatusCallback)\n",
    "\n"
   ]
  },
  {
   "cell_type": "markdown",
   "id": "0b7eb6a1",
   "metadata": {},
   "source": [
    "# Widgets' behaviour definitions"
   ]
  },
  {
   "cell_type": "code",
   "execution_count": 7,
   "id": "efa5ac36",
   "metadata": {
    "scrolled": true
   },
   "outputs": [],
   "source": [
    "def move_forward(arg):\n",
    "    desiredVel.linear.x = 0.5*s_speed.value\n",
    "    desiredVel.angular.z = 0.0\n",
    "    pubManualDrive.publish(desiredVel)   \n",
    "b_forward.on_click(move_forward) \n",
    "\n",
    "\n",
    "def stop(arg):\n",
    "    desiredVel.linear.x = 0\n",
    "    desiredVel.angular.z = 0\n",
    "    pubManualDrive.publish(desiredVel)   \n",
    "b_stop.on_click(stop) \n",
    "\n",
    "\n",
    "def move_for_left(arg):\n",
    "    desiredVel.linear.x = 0.5*s_speed.value\n",
    "    desiredVel.angular.z = 1\n",
    "    pubManualDrive.publish(desiredVel)   \n",
    "b_forLeft.on_click(move_for_left) \n",
    "\n",
    "def move_for_right(arg):\n",
    "    desiredVel.linear.x = 0.5*s_speed.value\n",
    "    desiredVel.angular.z = -1\n",
    "    pubManualDrive.publish(desiredVel)   \n",
    "b_forRight.on_click(move_for_right) \n",
    "\n",
    "def turn_left(arg):\n",
    "    desiredVel.linear.x = 0\n",
    "    desiredVel.angular.z = 1*s_speed.value\n",
    "    pubManualDrive.publish(desiredVel)   \n",
    "b_turnLeft.on_click(turn_left) \n",
    "\n",
    "def turn_right(arg):\n",
    "    desiredVel.linear.x = 0\n",
    "    desiredVel.angular.z = -1*s_speed.value\n",
    "    pubManualDrive.publish(desiredVel)   \n",
    "b_turnRight.on_click(turn_right) \n",
    "\n",
    "\n",
    "def move_back_left(arg):\n",
    "    desiredVel.linear.x = -0.5*s_speed.value\n",
    "    desiredVel.angular.z = -1\n",
    "    pubManualDrive.publish(desiredVel)   \n",
    "b_backLeft.on_click(move_back_left) \n",
    "\n",
    "def move_back_right(arg):\n",
    "    desiredVel.linear.x = -0.5*s_speed.value\n",
    "    desiredVel.angular.z = 1\n",
    "    pubManualDrive.publish(desiredVel)   \n",
    "b_backRight.on_click(move_back_right) \n",
    "\n",
    "\n",
    "def move_back(arg):\n",
    "    desiredVel.linear.x = -0.5*s_speed.value\n",
    "    desiredVel.angular.z = 0\n",
    "    pubManualDrive.publish(desiredVel)   \n",
    "b_back.on_click(move_back) "
   ]
  },
  {
   "cell_type": "code",
   "execution_count": 8,
   "id": "d41bfe50",
   "metadata": {
    "scrolled": false
   },
   "outputs": [
    {
     "data": {
      "application/vnd.jupyter.widget-view+json": {
       "model_id": "3463571076f54194b9869ab1dc466262",
       "version_major": 2,
       "version_minor": 0
      },
      "text/plain": [
       "Output()"
      ]
     },
     "metadata": {},
     "output_type": "display_data"
    }
   ],
   "source": [
    "def toggle_callback(mode):\n",
    "        \n",
    "        if (mode == 0):            \n",
    "            my_cancel.id = \"\";\n",
    "            pubCancel.publish(my_cancel);\n",
    "            InfoText.value ='Goal Canceled'\n",
    "            \n",
    "            inputPoint.x = 666\n",
    "            pubGoalPoint.publish(inputPoint);\n",
    "            DisableGoal(0)\n",
    "            DisableCommands(1)\n",
    "            \n",
    "        elif(mode == 1):\n",
    "            DisableGoal(0)\n",
    "            DisableCommands(1)\n",
    "            InfoText.value ='new goal set'\n",
    "            \n",
    "            inputPoint.x = x_goal_widget.value\n",
    "            inputPoint.y = y_goal_widget.value\n",
    "            pubGoalPoint.publish(inputPoint)\n",
    "            \n",
    "        elif(mode == 2):\n",
    "            DisableGoal(0)\n",
    "            DisableCommands(0)\n",
    "            InfoText.value ='Enabling fully manual drive'\n",
    "            \n",
    "            whichTeleop.data = 0\n",
    "            pubTeleop.publish(whichTeleop);\n",
    "            \n",
    "        elif(mode == 3):\n",
    "            DisableGoal(0)\n",
    "            DisableCommands(0)\n",
    "            InfoText.value ='Enabling Assisted manual drive'\n",
    "            \n",
    "            whichTeleop.data = 1\n",
    "            pubTeleop.publish(whichTeleop);\n",
    "\n",
    "        else:\n",
    "\n",
    "            return\n",
    "\n",
    "interactive_output (toggle_callback, {'mode':  toggle_mode})\n"
   ]
  },
  {
   "cell_type": "markdown",
   "id": "ff34ed38",
   "metadata": {},
   "source": [
    "# DISPLAY WIDGETS FOR MODE SELECTION AND GOAL SETTING"
   ]
  },
  {
   "cell_type": "code",
   "execution_count": 9,
   "id": "563cf38c",
   "metadata": {
    "scrolled": false
   },
   "outputs": [
    {
     "data": {
      "application/vnd.jupyter.widget-view+json": {
       "model_id": "9d9f5450d4334431af3c46f76bbba934",
       "version_major": 2,
       "version_minor": 0
      },
      "text/plain": [
       "FloatText(value=0.0, description='x goal:')"
      ]
     },
     "metadata": {},
     "output_type": "display_data"
    },
    {
     "data": {
      "application/vnd.jupyter.widget-view+json": {
       "model_id": "3478d97a88bb4d39a0ffb5245b774e05",
       "version_major": 2,
       "version_minor": 0
      },
      "text/plain": [
       "FloatText(value=0.0, description='y goal:')"
      ]
     },
     "metadata": {},
     "output_type": "display_data"
    },
    {
     "data": {
      "application/vnd.jupyter.widget-view+json": {
       "model_id": "9c98fd8e767d41769308008a87889822",
       "version_major": 2,
       "version_minor": 0
      },
      "text/plain": [
       "ToggleButtons(description='Select Action:', options=(('Cancel goal', 0), ('Set new goal', 1), ('Fully manual d…"
      ]
     },
     "metadata": {},
     "output_type": "display_data"
    },
    {
     "data": {
      "application/vnd.jupyter.widget-view+json": {
       "model_id": "f6b410da80974cec83ce936dc23ba476",
       "version_major": 2,
       "version_minor": 0
      },
      "text/plain": [
       "Text(value='Goal Canceled', description='status:', disabled=True, placeholder='')"
      ]
     },
     "metadata": {},
     "output_type": "display_data"
    }
   ],
   "source": [
    "\n",
    "display(x_goal_widget, y_goal_widget)\n",
    "display(toggle_mode)\n",
    "display(InfoText)\n"
   ]
  },
  {
   "cell_type": "markdown",
   "id": "f5d07421",
   "metadata": {},
   "source": [
    "# DISPLAY WIDGETS FOR MANUAL DRIVING"
   ]
  },
  {
   "cell_type": "code",
   "execution_count": 10,
   "id": "fde3e8a5",
   "metadata": {
    "scrolled": false
   },
   "outputs": [
    {
     "data": {
      "application/vnd.jupyter.widget-view+json": {
       "model_id": "f93afa55210846b3818cb3b673af0ad3",
       "version_major": 2,
       "version_minor": 0
      },
      "text/plain": [
       "VBox(children=(HBox(children=(Button(description='LEFT FORWARD', disabled=True, layout=Layout(height='65px', w…"
      ]
     },
     "metadata": {},
     "output_type": "display_data"
    },
    {
     "data": {
      "application/vnd.jupyter.widget-view+json": {
       "model_id": "36b5ff3175924ccfa93e5ab3aea35e97",
       "version_major": 2,
       "version_minor": 0
      },
      "text/plain": [
       "FloatSlider(value=1.0, description='Speed multiplier factor:', disabled=True, layout=Layout(height='65px', wid…"
      ]
     },
     "metadata": {},
     "output_type": "display_data"
    }
   ],
   "source": [
    "display(commands)\n",
    "display(s_speed)"
   ]
  },
  {
   "cell_type": "markdown",
   "id": "39a63703",
   "metadata": {},
   "source": [
    "# 3D representation of robot's position"
   ]
  },
  {
   "cell_type": "code",
   "execution_count": 17,
   "id": "9a1a6034",
   "metadata": {},
   "outputs": [
    {
     "data": {
      "application/vnd.jupyter.widget-view+json": {
       "model_id": "0ce63d52f6e24b4bb60f3d7acdf104f6",
       "version_major": 2,
       "version_minor": 0
      },
      "text/plain": [
       "Viewer(objects=[GridModel(), LaserScan(ros=ROSConnection(url='ws://localhost:9090'), tf_client=TFClient(fixed_…"
      ]
     },
     "metadata": {},
     "output_type": "display_data"
    }
   ],
   "source": [
    "from jupyros import ros3d\n",
    "import os\n",
    "v = ros3d.Viewer()\n",
    "rc = ros3d.ROSConnection(url=\"ws://localhost:9090\")\n",
    "tf_client = ros3d.TFClient(ros=rc, fixed_frame='map')\n",
    "\n",
    "laser_view = ros3d.LaserScan(topic=\"/scan\", ros=rc, tf_client=tf_client)\n",
    "map_view = ros3d.OccupancyGrid(topic=\"/map\", ros=rc, tf_client=tf_client)\n",
    "path = ros3d.Path(topic=\"/move_base/NavfnROS/plan\", ros=rc, \n",
    "tf_client=tf_client)\n",
    "urdf = ros3d.URDFModel(ros=rc, tf_client=tf_client, \n",
    "path=os.environ.get('JUPYROS_ASSETS_URL', 'http://localhost:3000'))\n",
    "g = ros3d.GridModel()\n",
    "v.objects = [g, laser_view, map_view, path, urdf]\n",
    "v"
   ]
  },
  {
   "cell_type": "markdown",
   "id": "14bfb89a",
   "metadata": {},
   "source": [
    "# Graphical representations about  the robot's output"
   ]
  },
  {
   "cell_type": "code",
   "execution_count": 12,
   "id": "6242e0b9",
   "metadata": {},
   "outputs": [
    {
     "data": {
      "application/vnd.jupyter.widget-view+json": {
       "model_id": "43ec47c5a7fa4f98ae65fae4c2ce7d76",
       "version_major": 2,
       "version_minor": 0
      },
      "text/plain": [
       "Canvas(toolbar=Toolbar(toolitems=[('Home', 'Reset original view', 'home', 'home'), ('Back', 'Back to previous …"
      ]
     },
     "metadata": {},
     "output_type": "display_data"
    }
   ],
   "source": [
    "%matplotlib widget\n",
    "odom_vis = Odom_Visualiser()\n",
    "subOdom = rospy.Subscriber('/odom', Odometry, odom_vis.odom_callback)\n",
    "ani1 = FuncAnimation(odom_vis.fig, odom_vis.update_plot, init_func=odom_vis.plot_init,interval=1000, blit=False)\n"
   ]
  },
  {
   "cell_type": "code",
   "execution_count": 13,
   "id": "d49726b5",
   "metadata": {},
   "outputs": [
    {
     "data": {
      "application/vnd.jupyter.widget-view+json": {
       "model_id": "a29c6cee30ef4559bb264d454179a2bc",
       "version_major": 2,
       "version_minor": 0
      },
      "text/plain": [
       "Canvas(toolbar=Toolbar(toolitems=[('Home', 'Reset original view', 'home', 'home'), ('Back', 'Back to previous …"
      ]
     },
     "metadata": {},
     "output_type": "display_data"
    }
   ],
   "source": [
    "goal_vis = Goal_Visualiser()\n",
    "subGoal = rospy.Subscriber('/clock', Clock, goal_vis.goal_callback)\n",
    "ani3= FuncAnimation(goal_vis.fig, goal_vis.update_plot, init_func=goal_vis.plot_init,interval=500, blit=True)"
   ]
  },
  {
   "cell_type": "code",
   "execution_count": 14,
   "id": "8af57aa5",
   "metadata": {},
   "outputs": [
    {
     "data": {
      "application/vnd.jupyter.widget-view+json": {
       "model_id": "d0f9977abb9440e1bd6fc763ccee1e80",
       "version_major": 2,
       "version_minor": 0
      },
      "text/plain": [
       "Canvas(toolbar=Toolbar(toolitems=[('Home', 'Reset original view', 'home', 'home'), ('Back', 'Back to previous …"
      ]
     },
     "metadata": {},
     "output_type": "display_data"
    }
   ],
   "source": [
    "laser_vis = Laser_Visualiser()\n",
    "subLaser = rospy.Subscriber('/scan', LaserScan, laser_vis.laser_callback)\n",
    "ani2 = FuncAnimation(laser_vis.fig, laser_vis.update_plot, init_func=laser_vis.plot_init,interval=500, blit=False)\n"
   ]
  }
 ],
 "metadata": {
  "kernelspec": {
   "display_name": "Python 3 (ipykernel)",
   "language": "python",
   "name": "python3"
  },
  "language_info": {
   "codemirror_mode": {
    "name": "ipython",
    "version": 3
   },
   "file_extension": ".py",
   "mimetype": "text/x-python",
   "name": "python",
   "nbconvert_exporter": "python",
   "pygments_lexer": "ipython3",
   "version": "3.8.5"
  }
 },
 "nbformat": 4,
 "nbformat_minor": 5
}
